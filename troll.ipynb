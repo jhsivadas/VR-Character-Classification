{
 "cells": [
  {
   "cell_type": "code",
   "execution_count": 5,
   "metadata": {},
   "outputs": [],
   "source": [
    "import pandas as pd\n",
    "import numpy as np\n",
    "import matplotlib.pyplot as plt"
   ]
  },
  {
   "cell_type": "code",
   "execution_count": 11,
   "metadata": {},
   "outputs": [],
   "source": [
    "train = pd.read_csv('/Users/max/Downloads/Data 2/emnist-bymerge-train.csv', header=None)"
   ]
  },
  {
   "cell_type": "code",
   "execution_count": 44,
   "metadata": {},
   "outputs": [],
   "source": [
    "y = train.iloc[:, 0] \n",
    "X = train.iloc[:, 1:].values.reshape(-1, 28, 28)  \n"
   ]
  },
  {
   "cell_type": "code",
   "execution_count": 63,
   "metadata": {},
   "outputs": [],
   "source": [
    "ascii_dict = {\n",
    "    0: 48,\n",
    "    1: 49,\n",
    "    2: 50,\n",
    "    3: 51,\n",
    "    4: 52,\n",
    "    5: 53,\n",
    "    6: 54,\n",
    "    7: 55,\n",
    "    8: 56,\n",
    "    9: 57,\n",
    "    10: 65,\n",
    "    11: 66,\n",
    "    12: 67,\n",
    "    13: 68,\n",
    "    14: 69,\n",
    "    15: 70,\n",
    "    16: 71,\n",
    "    17: 72,\n",
    "    18: 73,\n",
    "    19: 74,\n",
    "    20: 75,\n",
    "    21: 76,\n",
    "    22: 77,\n",
    "    23: 78,\n",
    "    24: 79,\n",
    "    25: 80,\n",
    "    26: 81,\n",
    "    27: 82,\n",
    "    28: 83,\n",
    "    29: 84,\n",
    "    30: 85,\n",
    "    31: 86,\n",
    "    32: 87,\n",
    "    33: 88,\n",
    "    34: 89,\n",
    "    35: 90,\n",
    "    36: 97,\n",
    "    37: 98,\n",
    "    38: 100,\n",
    "    39: 101,\n",
    "    40: 102,\n",
    "    41: 103,\n",
    "    42: 104,\n",
    "    43: 110,\n",
    "    44: 113,\n",
    "    45: 114,\n",
    "    46: 116\n",
    "}"
   ]
  },
  {
   "cell_type": "code",
   "execution_count": 74,
   "metadata": {},
   "outputs": [
    {
     "data": {
      "image/png": "[encoded data removed]",
      "text/plain": [
       "<Figure size 640x480 with 2 Axes>"
      ]
     },
     "metadata": {},
     "output_type": "display_data"
    }
   ],
   "source": [
    "i = 8\n",
    "\n",
    "plt.imshow(X[i].T, cmap='gray')  # Use a grayscale color map\n",
    "plt.colorbar()  # Optional, to see the pixel value scale\n",
    "plt.title(f'{chr(ascii_dict[y[i]])}')\n",
    "plt.show()\n"
   ]
  },
  {
   "cell_type": "code",
   "execution_count": 41,
   "metadata": {},
   "outputs": [
    {
     "data": {
      "text/plain": [
       "0         24\n",
       "1         36\n",
       "2          5\n",
       "3          6\n",
       "4         35\n",
       "          ..\n",
       "697927    45\n",
       "697928    25\n",
       "697929     9\n",
       "697930    36\n",
       "697931     1\n",
       "Name: 0, Length: 697932, dtype: int64"
      ]
     },
     "execution_count": 41,
     "metadata": {},
     "output_type": "execute_result"
    }
   ],
   "source": [
    "y"
   ]
  }
 ],
 "metadata": {
  "kernelspec": {
   "display_name": "Python 3",
   "language": "python",
   "name": "python3"
  },
  "language_info": {
   "codemirror_mode": {
    "name": "ipython",
    "version": 3
   },
   "file_extension": ".py",
   "mimetype": "text/x-python",
   "name": "python",
   "nbconvert_exporter": "python",
   "pygments_lexer": "ipython3",
   "version": "3.11.3"
  }
 },
 "nbformat": 4,
 "nbformat_minor": 2
}
